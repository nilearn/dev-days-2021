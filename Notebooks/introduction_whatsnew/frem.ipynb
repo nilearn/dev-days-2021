{
 "cells": [
  {
   "cell_type": "markdown",
   "metadata": {},
   "source": [
    "# FREM - Fast Ensembling of Regularized Models\n",
    "\n",
    "## Description\n",
    "\n",
    "FREM objects `FREMClassifier` (for classification) and `FREMRegressor` (for regression) were added in **Nilearn release 0.7.0** and extend the `Decoder` object with one fast clustering step at the beginning and aggregates a high number of estimators trained on various splits of the training set.\n",
    "\n",
    "More precisely, FREM uses an implicit **spatial regularization** through fast clustering and **aggregates a high number of estimators trained on various splits of the training set**, thus returning a very robust decoder at a lower computational cost than other spatially regularized methods.\n",
    "\n",
    "FREM pipeline averages the coefficients of many models, each trained on a different split of the training data. For each split:\n",
    "\n",
    "- aggregate similar voxels together to reduce the number of features (and the computational complexity of the decoding problem). ReNA algorithm is used at this step, usually to reduce by a 10 factor the number of voxels.\n",
    "\n",
    "- optional : apply feature selection, an univariate statistical test on clusters to keep only the ones most informative to predict variable of interest and further lower the problem complexity.\n",
    "\n",
    "- find the best hyper-parameter and memorize the coefficients of this model\n",
    "\n",
    "Then this ensemble model is used for prediction, usually yielding better and more stable predictions than a unique model at no extra-cost. Also, the resulting coefficient maps obtained tend to be more structured.\n",
    "\n",
    "There are two object to apply FREM in Nilearn: \n",
    "\n",
    "- `FREMClassifier` to predict categories \n",
    "- `FREMRegressor` to predict continuous values (age, gain / loss…). \n",
    "\n",
    "They can use different type of models (l2-SVM, l1-SVM, Logistic, Ridge) through the parameter ‘estimator’.\n",
    "\n",
    "## Importing the object\n",
    "\n",
    "First of all make sure you have nilearn >= 0.7.0:"
   ]
  },
  {
   "cell_type": "code",
   "execution_count": 1,
   "metadata": {},
   "outputs": [
    {
     "name": "stdout",
     "output_type": "stream",
     "text": [
      "0.7.2.dev\n"
     ]
    }
   ],
   "source": [
    "import nilearn\n",
    "print(nilearn.__version__)"
   ]
  },
  {
   "cell_type": "markdown",
   "metadata": {},
   "source": [
    "The documentation can be found online on the website [here](http://nilearn.github.io/modules/generated/nilearn.decoding.FREMClassifier.html#nilearn.decoding.FREMClassifier), or with the Jupyter magic command:"
   ]
  },
  {
   "cell_type": "code",
   "execution_count": 2,
   "metadata": {},
   "outputs": [
    {
     "data": {
      "text/plain": [
       "\u001b[0;31mInit signature:\u001b[0m\n",
       "\u001b[0mFREMClassifier\u001b[0m\u001b[0;34m(\u001b[0m\u001b[0;34m\u001b[0m\n",
       "\u001b[0;34m\u001b[0m    \u001b[0mestimator\u001b[0m\u001b[0;34m=\u001b[0m\u001b[0;34m'svc'\u001b[0m\u001b[0;34m,\u001b[0m\u001b[0;34m\u001b[0m\n",
       "\u001b[0;34m\u001b[0m    \u001b[0mmask\u001b[0m\u001b[0;34m=\u001b[0m\u001b[0;32mNone\u001b[0m\u001b[0;34m,\u001b[0m\u001b[0;34m\u001b[0m\n",
       "\u001b[0;34m\u001b[0m    \u001b[0mcv\u001b[0m\u001b[0;34m=\u001b[0m\u001b[0;36m30\u001b[0m\u001b[0;34m,\u001b[0m\u001b[0;34m\u001b[0m\n",
       "\u001b[0;34m\u001b[0m    \u001b[0mparam_grid\u001b[0m\u001b[0;34m=\u001b[0m\u001b[0;32mNone\u001b[0m\u001b[0;34m,\u001b[0m\u001b[0;34m\u001b[0m\n",
       "\u001b[0;34m\u001b[0m    \u001b[0mclustering_percentile\u001b[0m\u001b[0;34m=\u001b[0m\u001b[0;36m10\u001b[0m\u001b[0;34m,\u001b[0m\u001b[0;34m\u001b[0m\n",
       "\u001b[0;34m\u001b[0m    \u001b[0mscreening_percentile\u001b[0m\u001b[0;34m=\u001b[0m\u001b[0;36m20\u001b[0m\u001b[0;34m,\u001b[0m\u001b[0;34m\u001b[0m\n",
       "\u001b[0;34m\u001b[0m    \u001b[0mscoring\u001b[0m\u001b[0;34m=\u001b[0m\u001b[0;34m'roc_auc'\u001b[0m\u001b[0;34m,\u001b[0m\u001b[0;34m\u001b[0m\n",
       "\u001b[0;34m\u001b[0m    \u001b[0msmoothing_fwhm\u001b[0m\u001b[0;34m=\u001b[0m\u001b[0;32mNone\u001b[0m\u001b[0;34m,\u001b[0m\u001b[0;34m\u001b[0m\n",
       "\u001b[0;34m\u001b[0m    \u001b[0mstandardize\u001b[0m\u001b[0;34m=\u001b[0m\u001b[0;32mTrue\u001b[0m\u001b[0;34m,\u001b[0m\u001b[0;34m\u001b[0m\n",
       "\u001b[0;34m\u001b[0m    \u001b[0mtarget_affine\u001b[0m\u001b[0;34m=\u001b[0m\u001b[0;32mNone\u001b[0m\u001b[0;34m,\u001b[0m\u001b[0;34m\u001b[0m\n",
       "\u001b[0;34m\u001b[0m    \u001b[0mtarget_shape\u001b[0m\u001b[0;34m=\u001b[0m\u001b[0;32mNone\u001b[0m\u001b[0;34m,\u001b[0m\u001b[0;34m\u001b[0m\n",
       "\u001b[0;34m\u001b[0m    \u001b[0mmask_strategy\u001b[0m\u001b[0;34m=\u001b[0m\u001b[0;34m'background'\u001b[0m\u001b[0;34m,\u001b[0m\u001b[0;34m\u001b[0m\n",
       "\u001b[0;34m\u001b[0m    \u001b[0mlow_pass\u001b[0m\u001b[0;34m=\u001b[0m\u001b[0;32mNone\u001b[0m\u001b[0;34m,\u001b[0m\u001b[0;34m\u001b[0m\n",
       "\u001b[0;34m\u001b[0m    \u001b[0mhigh_pass\u001b[0m\u001b[0;34m=\u001b[0m\u001b[0;32mNone\u001b[0m\u001b[0;34m,\u001b[0m\u001b[0;34m\u001b[0m\n",
       "\u001b[0;34m\u001b[0m    \u001b[0mt_r\u001b[0m\u001b[0;34m=\u001b[0m\u001b[0;32mNone\u001b[0m\u001b[0;34m,\u001b[0m\u001b[0;34m\u001b[0m\n",
       "\u001b[0;34m\u001b[0m    \u001b[0mmemory\u001b[0m\u001b[0;34m=\u001b[0m\u001b[0;32mNone\u001b[0m\u001b[0;34m,\u001b[0m\u001b[0;34m\u001b[0m\n",
       "\u001b[0;34m\u001b[0m    \u001b[0mmemory_level\u001b[0m\u001b[0;34m=\u001b[0m\u001b[0;36m0\u001b[0m\u001b[0;34m,\u001b[0m\u001b[0;34m\u001b[0m\n",
       "\u001b[0;34m\u001b[0m    \u001b[0mn_jobs\u001b[0m\u001b[0;34m=\u001b[0m\u001b[0;36m1\u001b[0m\u001b[0;34m,\u001b[0m\u001b[0;34m\u001b[0m\n",
       "\u001b[0;34m\u001b[0m    \u001b[0mverbose\u001b[0m\u001b[0;34m=\u001b[0m\u001b[0;36m0\u001b[0m\u001b[0;34m,\u001b[0m\u001b[0;34m\u001b[0m\n",
       "\u001b[0;34m\u001b[0m\u001b[0;34m)\u001b[0m\u001b[0;34m\u001b[0m\u001b[0;34m\u001b[0m\u001b[0m\n",
       "\u001b[0;31mDocstring:\u001b[0m     \n",
       "State of the art decoding scheme applied to usual classifiers.\n",
       "\n",
       "FREM uses an implicit spatial regularization through fast clustering and\n",
       "aggregates a high number of estimators trained on various splits of the\n",
       "training set, thus returning a very robust decoder at a lower computational\n",
       "cost than other spatially regularized methods.[1]_.\n",
       "\n",
       "Parameters\n",
       "-----------\n",
       "estimator : str, optional\n",
       "    The estimator to choose among: 'svc', 'svc_l2', 'svc_l1', 'logistic',\n",
       "    'logistic_l1', 'logistic_l2' and 'ridge_classifier'. Note that\n",
       "    'svc' and 'svc_l2'; 'logistic' and 'logistic_l2' correspond to the same\n",
       "    estimator. Default 'svc'.\n",
       "\n",
       "mask : filename, Nifti1Image, NiftiMasker, or MultiNiftiMasker, optional\n",
       "    Mask to be used on data. If an instance of masker is passed,\n",
       "    then its mask and parameters will be used. If no mask is given, mask\n",
       "    will be computed automatically from provided images by an inbuilt\n",
       "    masker with default parameters. Refer to NiftiMasker or\n",
       "    MultiNiftiMasker to check for default parameters. Default None\n",
       "\n",
       "cv : int or cross-validation generator, optional (default 30)\n",
       "    If int, number of stratified shuffled splits returned, which is usually\n",
       "    the right way to train many different classifiers. A good trade-off\n",
       "    between stability of the aggregated model and computation time is\n",
       "    50 splits. Shuffled splits are seeded by default for reproducibility.\n",
       "    Can also be a cross-validation generator.\n",
       "\n",
       "param_grid : dict of str to sequence, or sequence of such. Default None\n",
       "    The parameter grid to explore, as a dictionary mapping estimator\n",
       "    parameters to sequences of allowed values.\n",
       "\n",
       "    None or an empty dict signifies default parameters.\n",
       "\n",
       "    A sequence of dicts signifies a sequence of grids to search, and is\n",
       "    useful to avoid exploring parameter combinations that make no sense\n",
       "    or have no effect. See scikit-learn documentation for more information,\n",
       "    for example: https://scikit-learn.org/stable/modules/grid_search.html\n",
       "\n",
       "clustering_percentile : int, float, optional, in closed interval [0, 100]\n",
       "    Used to perform a fast ReNA clustering on input data as a first step of\n",
       "    fit. It agglomerates similar features together to reduce their number\n",
       "    down to this percentile. ReNA is typically efficient for\n",
       "    cluster_percentile equal to 10. Default: 10.\n",
       "\n",
       "screening_percentile : int, float, optional, in closed interval [0, 100]\n",
       "    The percentage of brain volume that will be kept with respect to a full\n",
       "    MNI template. In particular, if it is lower than 100, a univariate\n",
       "    feature selection based on the Anova F-value for the input data will be\n",
       "    performed. A float according to a percentile of the highest\n",
       "    scores. Default: 20.\n",
       "\n",
       "scoring : str, callable or None, optional. Default: 'roc_auc'\n",
       "    The scoring strategy to use. See the scikit-learn documentation at\n",
       "    https://scikit-learn.org/stable/modules/model_evaluation.html#the-scoring-parameter-defining-model-evaluation-rules\n",
       "    If callable, takes as arguments the fitted estimator, the\n",
       "    test data (X_test) and the test target (y_test) if y is\n",
       "    not None.\n",
       "    e.g. scorer(estimator, X_test, y_test)\n",
       "\n",
       "    For classification, valid entries are: 'accuracy', 'f1', 'precision',\n",
       "    'recall' or 'roc_auc'. Default: 'roc_auc'.\n",
       "\n",
       "smoothing_fwhm : float, optional. Default: None\n",
       "    If smoothing_fwhm is not None, it gives the size in millimeters of the\n",
       "    spatial smoothing to apply to the signal.\n",
       "\n",
       "standardize : bool, optional. Default: True\n",
       "    If standardize is True, the time-series are centered and normed:\n",
       "    their variance is put to 1 in the time dimension.\n",
       "\n",
       "target_affine : 3x3 or 4x4 matrix, optional. Default: None\n",
       "    This parameter is passed to image.resample_img. Please see the\n",
       "    related documentation for details.\n",
       "\n",
       "target_shape : 3-tuple of int, optional. Default: None\n",
       "    This parameter is passed to image.resample_img. Please see the\n",
       "    related documentation for details.\n",
       "\n",
       "low_pass : None or float, optional\n",
       "    This parameter is passed to signal.clean. Please see the related\n",
       "    documentation for details\n",
       "\n",
       "high_pass : None or float, optional\n",
       "    This parameter is passed to signal.clean. Please see the related\n",
       "    documentation for details\n",
       "\n",
       "t_r : float, optional. Default: None\n",
       "    This parameter is passed to signal.clean. Please see the related\n",
       "    documentation for details.\n",
       "\n",
       "mask_strategy : {'background' or 'epi'}, optional. Default: 'background'\n",
       "    The strategy used to compute the mask: use 'background' if your\n",
       "    images present a clear homogeneous background, and 'epi' if they\n",
       "    are raw EPI images. Depending on this value, the mask will be\n",
       "    computed from masking.compute_background_mask or\n",
       "    masking.compute_epi_mask.\n",
       "\n",
       "    This parameter will be ignored if a mask image is provided.\n",
       "\n",
       "memory : instance of joblib.Memory or str\n",
       "    Used to cache the masking process.\n",
       "    By default, no caching is done. If a str is given, it is the\n",
       "    path to the caching directory.\n",
       "\n",
       "memory_level : int, optional. Default: 0\n",
       "    Rough estimator of the amount of memory used by caching. Higher value\n",
       "    means more memory for caching.\n",
       "\n",
       "n_jobs : int, optional. Default: 1.\n",
       "    The number of CPUs to use to do the computation. -1 means\n",
       "    'all CPUs'.\n",
       "\n",
       "verbose : int, optional. Default: 0.\n",
       "    Verbosity level.\n",
       "\n",
       "References\n",
       "----------\n",
       "* A. Hoyos-Idrobo, G. Varoquaux, J. Kahn and B. Thirion, \"FReM –\n",
       "  scalable and stable decoding with fast regularized ensemble of models\"\n",
       "  in NeuroImage, Elsevier, 2017  pp.1-16, 11 October 2017.\n",
       "  https://hal.archives-ouvertes.fr/hal-01615015/\n",
       "\n",
       "See Also\n",
       "------------\n",
       "nilearn.decoding.Decoder: Classification strategies for Neuroimaging,\n",
       "nilearn.decoding.FREMRegressor: State of the art regression pipeline\n",
       "    for Neuroimaging\n",
       "\u001b[0;31mFile:\u001b[0m           ~/GitRepos/nilearn-fork/nilearn/decoding/decoder.py\n",
       "\u001b[0;31mType:\u001b[0m           ABCMeta\n",
       "\u001b[0;31mSubclasses:\u001b[0m     \n"
      ]
     },
     "metadata": {},
     "output_type": "display_data"
    }
   ],
   "source": [
    "from nilearn.decoding import FREMClassifier\n",
    "?FREMClassifier"
   ]
  },
  {
   "cell_type": "markdown",
   "metadata": {},
   "source": [
    "## Example\n",
    "\n",
    "Here is an example of how to use FREM for a classification task on the Haxby experiment. We compare the results obtained with FREM with the results obtained with the standard decoder object."
   ]
  },
  {
   "cell_type": "code",
   "execution_count": 3,
   "metadata": {},
   "outputs": [
    {
     "name": "stderr",
     "output_type": "stream",
     "text": [
      "/home/nicolas/GitRepos/nilearn-fork/nilearn/datasets/__init__.py:87: FutureWarning: Fetchers from the nilearn.datasets module will be updated in version 0.9 to return python strings instead of bytes and Pandas dataframes instead of Numpy arrays.\n",
      "  warn(\"Fetchers from the nilearn.datasets module will be \"\n"
     ]
    }
   ],
   "source": [
    "import pandas as pd\n",
    "from nilearn.datasets import fetch_haxby\n",
    "\n",
    "data_files = fetch_haxby()\n",
    "behavioral = pd.read_csv(data_files.session_target[0], sep=\" \")\n",
    "\n",
    "# Restrict to face and house conditions\n",
    "conditions = behavioral['labels']\n",
    "condition_mask = conditions.isin(['face', 'house'])\n",
    "\n",
    "# Split data into train and test samples, using the chunks\n",
    "condition_mask_train = (condition_mask) & (behavioral['chunks'] <= 6)\n",
    "condition_mask_test = (condition_mask) & (behavioral['chunks'] > 6)"
   ]
  },
  {
   "cell_type": "code",
   "execution_count": 4,
   "metadata": {},
   "outputs": [],
   "source": [
    "# Apply this sample mask to X (fMRI data) and y (behavioral labels)\n",
    "# Because the data is in one single large 4D image, we need to use\n",
    "# index_img to do the split easily\n",
    "from nilearn.image import index_img\n",
    "\n",
    "func_filenames = data_files.func[0]\n",
    "X_train = index_img(func_filenames, condition_mask_train)\n",
    "X_test = index_img(func_filenames, condition_mask_test)\n",
    "y_train = conditions[condition_mask_train].values\n",
    "y_test = conditions[condition_mask_test].values"
   ]
  },
  {
   "cell_type": "code",
   "execution_count": 5,
   "metadata": {},
   "outputs": [],
   "source": [
    "# Compute the mean epi to be used for the background of the plotting\n",
    "from nilearn.image import mean_img\n",
    "\n",
    "background_img = mean_img(func_filenames)"
   ]
  },
  {
   "cell_type": "code",
   "execution_count": 6,
   "metadata": {},
   "outputs": [
    {
     "name": "stdout",
     "output_type": "stream",
     "text": [
      "FREM classification accuracy : 84.4444%\n"
     ]
    }
   ],
   "source": [
    "from nilearn.decoding import FREMClassifier\n",
    "\n",
    "decoder = FREMClassifier(cv=10,\n",
    "                        mask=data_files.mask)\n",
    "\n",
    "# Fit model on train data and predict on test data\n",
    "decoder.fit(X_train, y_train)\n",
    "\n",
    "y_pred = decoder.predict(X_test)\n",
    "\n",
    "accuracy = (y_pred == y_test).mean() * 100.\n",
    "print(\"FREM classification accuracy : %g%%\" % accuracy)"
   ]
  },
  {
   "cell_type": "code",
   "execution_count": 7,
   "metadata": {},
   "outputs": [
    {
     "data": {
      "text/plain": [
       "<nilearn.plotting.displays.YZSlicer at 0x7febe6d81940>"
      ]
     },
     "execution_count": 7,
     "metadata": {},
     "output_type": "execute_result"
    },
    {
     "data": {
      "image/png": "[encoded data removed]",
      "text/plain": [
       "<Figure size 367.2x187.2 with 4 Axes>"
      ]
     },
     "metadata": {},
     "output_type": "display_data"
    }
   ],
   "source": [
    "from nilearn.plotting import plot_stat_map\n",
    "\n",
    "plot_stat_map(decoder.coef_img_[\"face\"], \n",
    "              background_img,\n",
    "              title=\"FREM: accuracy %g%%, 'face coefs'\" % accuracy,\n",
    "              cut_coords=(-52, -5), \n",
    "              display_mode=\"yz\")"
   ]
  },
  {
   "cell_type": "markdown",
   "metadata": {},
   "source": [
    "Compare the results with the ones obtained with a standard decoder:"
   ]
  },
  {
   "cell_type": "code",
   "execution_count": 8,
   "metadata": {},
   "outputs": [],
   "source": [
    "from nilearn.decoding import Decoder\n",
    "\n",
    "d = Decoder(estimator='svc',\n",
    "            mask=data_files.mask,\n",
    "            cv=10)\n",
    "d.fit(X_train, y_train)"
   ]
  },
  {
   "cell_type": "code",
   "execution_count": 9,
   "metadata": {},
   "outputs": [
    {
     "name": "stdout",
     "output_type": "stream",
     "text": [
      "Decoder classification accuracy : 83.3333%\n"
     ]
    }
   ],
   "source": [
    "y_pred = d.predict(X_test)\n",
    "accuracy = (y_pred == y_test).mean() * 100.\n",
    "print(\"Decoder classification accuracy : %g%%\" % accuracy)"
   ]
  },
  {
   "cell_type": "code",
   "execution_count": 10,
   "metadata": {},
   "outputs": [
    {
     "data": {
      "text/plain": [
       "<nilearn.plotting.displays.YZSlicer at 0x7febe6be3490>"
      ]
     },
     "execution_count": 10,
     "metadata": {},
     "output_type": "execute_result"
    },
    {
     "data": {
      "image/png": "[encoded data removed]",
      "text/plain": [
       "<Figure size 367.2x187.2 with 4 Axes>"
      ]
     },
     "metadata": {},
     "output_type": "display_data"
    }
   ],
   "source": [
    "plot_stat_map(d.coef_img_[\"face\"],\n",
    "              background_img,\n",
    "              title=\"Decoder: accuracy %g%%, 'face coefs'\" % accuracy,\n",
    "              cut_coords=(-52, -5), \n",
    "              display_mode=\"yz\")"
   ]
  },
  {
   "cell_type": "code",
   "execution_count": null,
   "metadata": {},
   "outputs": [],
   "source": []
  }
 ],
 "metadata": {
  "kernelspec": {
   "display_name": "Python 3",
   "language": "python",
   "name": "python3"
  },
  "language_info": {
   "codemirror_mode": {
    "name": "ipython",
    "version": 3
   },
   "file_extension": ".py",
   "mimetype": "text/x-python",
   "name": "python",
   "nbconvert_exporter": "python",
   "pygments_lexer": "ipython3",
   "version": "3.8.5"
  }
 },
 "nbformat": 4,
 "nbformat_minor": 4
}
